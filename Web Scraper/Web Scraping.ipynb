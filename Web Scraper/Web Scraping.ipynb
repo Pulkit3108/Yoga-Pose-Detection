{
 "cells": [
  {
   "cell_type": "code",
   "execution_count": 2,
   "id": "124a03db",
   "metadata": {},
   "outputs": [],
   "source": [
    "#IMPORTS\n",
    "import urllib.request\n",
    "import os"
   ]
  },
  {
   "cell_type": "code",
   "execution_count": 3,
   "id": "5b1cc760",
   "metadata": {},
   "outputs": [],
   "source": [
    "#PATH\n",
    "class_names_path = [\n",
    "    \"Downdog_Pose\",\n",
    "    \"Plank_Pose\",\n",
    "    \"Goddess_Pose\",\n",
    "    \"Tree_Pose\",\n",
    "    \"Warrior_II_Pose\"\n",
    "]\n",
    "class_names = [\n",
    "    \"Downdog\",\n",
    "    \"Plank\",\n",
    "    \"Goddess\",\n",
    "    \"Tree\",\n",
    "    \"Warrior_II\"\n",
    "]\n",
    "Yoga_82_path = \"path\"\n",
    "dataset_path = \"dataset\""
   ]
  },
  {
   "cell_type": "code",
   "execution_count": 1,
   "id": "aefd9b74",
   "metadata": {},
   "outputs": [],
   "source": [
    "#WEB SCRAPING\n",
    "def web_scraping(class_names,class_names_path):\n",
    "    for i in range(len(class_names_path)):\n",
    "        counter = 0\n",
    "        class_name = class_names[i]\n",
    "        name = class_names_path[i]\n",
    "        intermediary_file_name = dataset_path + \"/\" + class_name\n",
    "        try:\n",
    "            os.mkdir(intermediary_file_name)\n",
    "        except:\n",
    "            pass\n",
    "        url_file = Yoga_82_path + \"/\" + name + \".txt\"\n",
    "        filenames = os.listdir(dataset_path + \"/\" + class_name)\n",
    "        with open(url_file) as f:\n",
    "            d = f.readline()\n",
    "            while len(d):\n",
    "                url = d.split('\\t')[1].strip('\\n')\n",
    "                filename = class_name + '_' + str(counter) + \".jpg\"\n",
    "                try:\n",
    "                    urllib.request.urlretrieve(url, intermediary_file_name + \"/\" + filename)\n",
    "                    filenames.append(filename)\n",
    "                except:\n",
    "                    pass\n",
    "                counter += 1\n",
    "                d = f.readline()\n",
    "        print(\"Dowloaded\",str(counter),class_name,\"pose images\")"
   ]
  },
  {
   "cell_type": "code",
   "execution_count": null,
   "id": "e5cff313",
   "metadata": {},
   "outputs": [],
   "source": [
    "web_scraping(class_names,class_names_path)"
   ]
  }
 ],
 "metadata": {
  "kernelspec": {
   "display_name": "Python 3 (ipykernel)",
   "language": "python",
   "name": "python3"
  },
  "language_info": {
   "codemirror_mode": {
    "name": "ipython",
    "version": 3
   },
   "file_extension": ".py",
   "mimetype": "text/x-python",
   "name": "python",
   "nbconvert_exporter": "python",
   "pygments_lexer": "ipython3",
   "version": "3.8.12"
  }
 },
 "nbformat": 4,
 "nbformat_minor": 5
}
